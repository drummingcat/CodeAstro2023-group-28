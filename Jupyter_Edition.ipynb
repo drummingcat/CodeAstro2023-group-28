{
 "cells": [
  {
   "cell_type": "code",
   "execution_count": 1,
   "metadata": {},
   "outputs": [],
   "source": [
    "import os \n",
    "import numpy as np\n",
    "import pandas as pd\n",
    "import matplotlib.pyplot as plt\n",
    "objects = [['Jupiter', '-2.7°F', '-234°F', '4.2-6.2 AU', '5.2 AU'], \n",
    "           ['Saturn', 'mag', 'temp', 'distearth', 'distsun'],\n",
    "           ['Venus', 'mag', 'temp', 'distearth', 'distsun'],\n",
    "           ['Mars', 'mag', 'temp', 'distearth', 'distsun'],\n",
    "           ['Mercury', 'mag', 'temp', 'distearth', 'distsun'],\n",
    "           ['Neptune', 'mag', 'temp', 'distearth', 'distsun'],\n",
    "           ['Uranus', 'mag', 'temp', 'distearth', 'distsun']]\n",
    "df = pd.DataFrame(objects, columns=[\"Objects\", \"Magnitude\", 'Surface Temp','Distance from Earth', 'Distance from sun'])\n",
    "ObjectOfChoice = str(input('What is your chosen object?'))\n",
    "for i in range (len(objects)):\n",
    "    objects[i] += 1\n",
    "    print(i)\n",
    "    Data = pd.Series(objects)"
   ]
  }
 ],
 "metadata": {
  "kernelspec": {
   "display_name": "codeastro",
   "language": "python",
   "name": "python3"
  },
  "language_info": {
   "codemirror_mode": {
    "name": "ipython",
    "version": 3
   },
   "file_extension": ".py",
   "mimetype": "text/x-python",
   "name": "python",
   "nbconvert_exporter": "python",
   "pygments_lexer": "ipython3",
   "version": "3.10.11"
  },
  "orig_nbformat": 4
 },
 "nbformat": 4,
 "nbformat_minor": 2
}
